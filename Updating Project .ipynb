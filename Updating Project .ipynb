{
  "cells": [
    {
      "cell_type": "code",
      "execution_count": null,
      "metadata": {
        "id": "eAjMN4CINoUV"
      },
      "outputs": [],
      "source": [
        "import torch\n",
        "import torch.nn as nn\n",
        "import torch.nn.functional as F\n",
        "import torch.optim as optim\n",
        "import torchvision\n",
        "import torchvision.datasets as datasets\n",
        "from torchvision import transforms\n",
        "\n",
        "from torch.utils.data import DataLoader\n",
        "from torch.utils.data import random_split\n",
        "import copy\n",
        "import numpy as np\n",
        "import matplotlib.pyplot as plt\n",
        "import time\n",
        "import os\n",
        "\n",
        "from torchvision.models import vgg16\n",
        "\n",
        "from PIL import Image"
      ]
    },
    {
      "cell_type": "code",
      "execution_count": null,
      "metadata": {
        "id": "-pePnepkNvMo"
      },
      "outputs": [],
      "source": [
        "transformes= transforms.Compose([\n",
        "    transforms.ToTensor(),\n",
        "    transforms.Normalize(0.5,0.5)\n",
        "\n",
        "])"
      ]
    },
    {
      "cell_type": "code",
      "execution_count": null,
      "metadata": {
        "id": "9rOJMTWWN3xb",
        "colab": {
          "base_uri": "https://localhost:8080/"
        },
        "outputId": "5764e27d-5cfa-4be8-f34d-b1a6501ddf76"
      },
      "outputs": [
        {
          "output_type": "stream",
          "name": "stdout",
          "text": [
            "Downloading http://yann.lecun.com/exdb/mnist/train-images-idx3-ubyte.gz\n",
            "Failed to download (trying next):\n",
            "HTTP Error 403: Forbidden\n",
            "\n",
            "Downloading https://ossci-datasets.s3.amazonaws.com/mnist/train-images-idx3-ubyte.gz\n",
            "Downloading https://ossci-datasets.s3.amazonaws.com/mnist/train-images-idx3-ubyte.gz to data/MNIST/raw/train-images-idx3-ubyte.gz\n"
          ]
        },
        {
          "output_type": "stream",
          "name": "stderr",
          "text": [
            "100%|██████████| 9912422/9912422 [00:00<00:00, 42646216.57it/s]\n"
          ]
        },
        {
          "output_type": "stream",
          "name": "stdout",
          "text": [
            "Extracting data/MNIST/raw/train-images-idx3-ubyte.gz to data/MNIST/raw\n",
            "\n",
            "Downloading http://yann.lecun.com/exdb/mnist/train-labels-idx1-ubyte.gz\n",
            "Failed to download (trying next):\n",
            "HTTP Error 403: Forbidden\n",
            "\n",
            "Downloading https://ossci-datasets.s3.amazonaws.com/mnist/train-labels-idx1-ubyte.gz\n",
            "Downloading https://ossci-datasets.s3.amazonaws.com/mnist/train-labels-idx1-ubyte.gz to data/MNIST/raw/train-labels-idx1-ubyte.gz\n"
          ]
        },
        {
          "output_type": "stream",
          "name": "stderr",
          "text": [
            "100%|██████████| 28881/28881 [00:00<00:00, 2060586.42it/s]"
          ]
        },
        {
          "output_type": "stream",
          "name": "stdout",
          "text": [
            "Extracting data/MNIST/raw/train-labels-idx1-ubyte.gz to data/MNIST/raw\n",
            "\n",
            "Downloading http://yann.lecun.com/exdb/mnist/t10k-images-idx3-ubyte.gz\n"
          ]
        },
        {
          "output_type": "stream",
          "name": "stderr",
          "text": [
            "\n"
          ]
        },
        {
          "output_type": "stream",
          "name": "stdout",
          "text": [
            "Failed to download (trying next):\n",
            "HTTP Error 403: Forbidden\n",
            "\n",
            "Downloading https://ossci-datasets.s3.amazonaws.com/mnist/t10k-images-idx3-ubyte.gz\n",
            "Downloading https://ossci-datasets.s3.amazonaws.com/mnist/t10k-images-idx3-ubyte.gz to data/MNIST/raw/t10k-images-idx3-ubyte.gz\n"
          ]
        },
        {
          "output_type": "stream",
          "name": "stderr",
          "text": [
            "100%|██████████| 1648877/1648877 [00:00<00:00, 14282097.32it/s]\n"
          ]
        },
        {
          "output_type": "stream",
          "name": "stdout",
          "text": [
            "Extracting data/MNIST/raw/t10k-images-idx3-ubyte.gz to data/MNIST/raw\n",
            "\n",
            "Downloading http://yann.lecun.com/exdb/mnist/t10k-labels-idx1-ubyte.gz\n",
            "Failed to download (trying next):\n",
            "HTTP Error 403: Forbidden\n",
            "\n",
            "Downloading https://ossci-datasets.s3.amazonaws.com/mnist/t10k-labels-idx1-ubyte.gz\n",
            "Downloading https://ossci-datasets.s3.amazonaws.com/mnist/t10k-labels-idx1-ubyte.gz to data/MNIST/raw/t10k-labels-idx1-ubyte.gz\n"
          ]
        },
        {
          "output_type": "stream",
          "name": "stderr",
          "text": [
            "100%|██████████| 4542/4542 [00:00<00:00, 6422969.92it/s]"
          ]
        },
        {
          "output_type": "stream",
          "name": "stdout",
          "text": [
            "Extracting data/MNIST/raw/t10k-labels-idx1-ubyte.gz to data/MNIST/raw\n",
            "\n"
          ]
        },
        {
          "output_type": "stream",
          "name": "stderr",
          "text": [
            "\n"
          ]
        }
      ],
      "source": [
        "train_data=datasets.MNIST(\n",
        "                          root='data',\n",
        "                          train=True,\n",
        "                          transform=transformes,\n",
        "                          download=True\n",
        "                          )\n",
        "test_data=datasets.MNIST(\n",
        "                        root='data',\n",
        "                        train=False,\n",
        "                        download=True,\n",
        "                        transform=transformes)\n",
        "\n",
        "train_loader=DataLoader(train_data,batch_size=100,shuffle=True)\n",
        "test_loader=DataLoader(test_data,batch_size=100,shuffle=True)"
      ]
    },
    {
      "cell_type": "code",
      "execution_count": null,
      "metadata": {
        "colab": {
          "base_uri": "https://localhost:8080/",
          "height": 452
        },
        "id": "ECUUg1Pach2B",
        "outputId": "90a29152-7b30-4d0c-e498-296f8efa3f67"
      },
      "outputs": [
        {
          "output_type": "display_data",
          "data": {
            "text/plain": [
              "<Figure size 640x480 with 1 Axes>"
            ],
            "image/png": "[encoded data removed]"
          },
          "metadata": {}
        }
      ],
      "source": [
        "image, label = train_data[166]\n",
        "plt.imshow(image.permute(1, 2, 0).squeeze(), cmap='gray')\n",
        "plt.title(f\"Label: {label}\")\n",
        "plt.show()"
      ]
    },
    {
      "cell_type": "code",
      "execution_count": null,
      "metadata": {
        "id": "PQWKdSl_N8LF"
      },
      "outputs": [],
      "source": [
        "class ImprovedCNN(nn.Module):\n",
        "  def __init__(self):\n",
        "    super(ImprovedCNN, self).__init__()\n",
        "    self.conv1=nn.Conv2d(1,32,kernel_size=3,padding=1)\n",
        "    self.bn1=nn.BatchNorm2d(32)\n",
        "    self.conv2=nn.Conv2d(32,64,kernel_size=3,padding=1)\n",
        "    self.bn2=nn.BatchNorm2d(64)\n",
        "    self.conv3=nn.Conv2d(64,128,kernel_size=3,padding=1)\n",
        "    self.bn3=nn.BatchNorm2d(128)\n",
        "    self.pool=nn.MaxPool2d(2,2)\n",
        "    self.dropout=nn.Dropout(p=0.5)\n",
        "    self.fc1=nn.Linear(128*3*3,256)\n",
        "    self.fc2=nn.Linear(256,10)\n",
        "  def forward(self,x):\n",
        "    x=self.pool(torch.relu(self.bn1(self.conv1(x))))\n",
        "    x=self.pool(torch.relu(self.bn2(self.conv2(x))))\n",
        "    x=self.pool(torch.relu(self.bn3(self.conv3(x))))\n",
        "    x=x.view(-1,128*3*3)\n",
        "    x=F.relu(self.fc1(x))\n",
        "    x=self.dropout(x)\n",
        "    x=self.fc2(x)\n",
        "    return x\n",
        "model=ImprovedCNN()"
      ]
    },
    {
      "cell_type": "code",
      "execution_count": null,
      "metadata": {
        "colab": {
          "base_uri": "https://localhost:8080/"
        },
        "id": "SFSTcS0fOBdX",
        "outputId": "91ca6d5f-f3e7-42b3-f38f-f43ebd78cf1c"
      },
      "outputs": [
        {
          "output_type": "execute_result",
          "data": {
            "text/plain": [
              "ImprovedCNN(\n",
              "  (conv1): Conv2d(1, 32, kernel_size=(3, 3), stride=(1, 1), padding=(1, 1))\n",
              "  (bn1): BatchNorm2d(32, eps=1e-05, momentum=0.1, affine=True, track_running_stats=True)\n",
              "  (conv2): Conv2d(32, 64, kernel_size=(3, 3), stride=(1, 1), padding=(1, 1))\n",
              "  (bn2): BatchNorm2d(64, eps=1e-05, momentum=0.1, affine=True, track_running_stats=True)\n",
              "  (conv3): Conv2d(64, 128, kernel_size=(3, 3), stride=(1, 1), padding=(1, 1))\n",
              "  (bn3): BatchNorm2d(128, eps=1e-05, momentum=0.1, affine=True, track_running_stats=True)\n",
              "  (pool): MaxPool2d(kernel_size=2, stride=2, padding=0, dilation=1, ceil_mode=False)\n",
              "  (dropout): Dropout(p=0.5, inplace=False)\n",
              "  (fc1): Linear(in_features=1152, out_features=256, bias=True)\n",
              "  (fc2): Linear(in_features=256, out_features=10, bias=True)\n",
              ")"
            ]
          },
          "metadata": {},
          "execution_count": 6
        }
      ],
      "source": [
        "device=torch.device(\"cuda\" if torch.cuda.is_available() else \"cpu\")\n",
        "model.to(device)"
      ]
    },
    {
      "cell_type": "code",
      "execution_count": null,
      "metadata": {
        "id": "EFN_Es3aOIMb"
      },
      "outputs": [],
      "source": [
        "Loss_fn=nn.CrossEntropyLoss()\n",
        "optimizer=optim.Adam(model.parameters(),lr=0.001)"
      ]
    },
    {
      "cell_type": "code",
      "execution_count": null,
      "metadata": {
        "colab": {
          "base_uri": "https://localhost:8080/"
        },
        "id": "cn97kGOdOLyT",
        "outputId": "f10d6c7f-fc0f-4a1b-938d-959ad1dfd540"
      },
      "outputs": [
        {
          "output_type": "stream",
          "name": "stdout",
          "text": [
            "Train Epoch: 1 , Batch :100 , Loss: 0.478\n",
            "Train Epoch: 1 , Batch :200 , Loss: 0.125\n",
            "Train Epoch: 1 , Batch :300 , Loss: 0.101\n",
            "Train Epoch: 1 , Batch :400 , Loss: 0.088\n",
            "Train Epoch: 1 , Batch :500 , Loss: 0.082\n",
            "Train Epoch: 1 , Batch :600 , Loss: 0.067\n",
            "Train Epoch: 2 , Batch :100 , Loss: 0.062\n",
            "Train Epoch: 2 , Batch :200 , Loss: 0.057\n",
            "Train Epoch: 2 , Batch :300 , Loss: 0.052\n",
            "Train Epoch: 2 , Batch :400 , Loss: 0.056\n",
            "Train Epoch: 2 , Batch :500 , Loss: 0.058\n",
            "Train Epoch: 2 , Batch :600 , Loss: 0.049\n",
            "Train Epoch: 3 , Batch :100 , Loss: 0.040\n",
            "Train Epoch: 3 , Batch :200 , Loss: 0.044\n",
            "Train Epoch: 3 , Batch :300 , Loss: 0.044\n",
            "Train Epoch: 3 , Batch :400 , Loss: 0.038\n",
            "Train Epoch: 3 , Batch :500 , Loss: 0.045\n",
            "Train Epoch: 3 , Batch :600 , Loss: 0.037\n",
            "Train Epoch: 4 , Batch :100 , Loss: 0.034\n",
            "Train Epoch: 4 , Batch :200 , Loss: 0.029\n",
            "Train Epoch: 4 , Batch :300 , Loss: 0.033\n",
            "Train Epoch: 4 , Batch :400 , Loss: 0.036\n",
            "Train Epoch: 4 , Batch :500 , Loss: 0.035\n",
            "Train Epoch: 4 , Batch :600 , Loss: 0.036\n",
            "Train Epoch: 5 , Batch :100 , Loss: 0.027\n",
            "Train Epoch: 5 , Batch :200 , Loss: 0.019\n",
            "Train Epoch: 5 , Batch :300 , Loss: 0.028\n",
            "Train Epoch: 5 , Batch :400 , Loss: 0.025\n",
            "Train Epoch: 5 , Batch :500 , Loss: 0.024\n",
            "Train Epoch: 5 , Batch :600 , Loss: 0.027\n",
            "Train Epoch: 6 , Batch :100 , Loss: 0.025\n",
            "Train Epoch: 6 , Batch :200 , Loss: 0.028\n",
            "Train Epoch: 6 , Batch :300 , Loss: 0.022\n",
            "Train Epoch: 6 , Batch :400 , Loss: 0.024\n",
            "Train Epoch: 6 , Batch :500 , Loss: 0.021\n",
            "Train Epoch: 6 , Batch :600 , Loss: 0.024\n",
            "Train Epoch: 7 , Batch :100 , Loss: 0.024\n",
            "Train Epoch: 7 , Batch :200 , Loss: 0.016\n",
            "Train Epoch: 7 , Batch :300 , Loss: 0.019\n",
            "Train Epoch: 7 , Batch :400 , Loss: 0.022\n",
            "Train Epoch: 7 , Batch :500 , Loss: 0.023\n",
            "Train Epoch: 7 , Batch :600 , Loss: 0.013\n",
            "Finished Training\n"
          ]
        }
      ],
      "source": [
        "for epoch in range(7):\n",
        "  running_loss=0\n",
        "  for i,data in enumerate(train_loader,0):\n",
        "\n",
        "    inputs,labels=data\n",
        "    optimizer.zero_grad()\n",
        "    # output=model(inputs)   # cpu\n",
        "    output=model(inputs.to(device))   # cuda\n",
        "    # loss=Loss_fn(output,labels)  # cpu\n",
        "    loss=Loss_fn(output,labels.to(device))   # cuda\n",
        "    loss.backward()\n",
        "    optimizer.step()\n",
        "    running_loss+=loss.item()\n",
        "    if i % 100 == 99:\n",
        "      print(f'Train Epoch: {epoch +1} , Batch :{i+1} , Loss: {running_loss/100 :.3f}')\n",
        "      running_loss=0.0\n",
        "\n",
        "print('Finished Training')\n"
      ]
    },
    {
      "cell_type": "code",
      "execution_count": null,
      "metadata": {
        "colab": {
          "base_uri": "https://localhost:8080/"
        },
        "id": "HaDNLGh0ORar",
        "outputId": "9f4553da-b491-4886-ddcf-943a5e2a405e"
      },
      "outputs": [
        {
          "output_type": "stream",
          "name": "stdout",
          "text": [
            "Accuracy of the network on the 10000 test images: 99.00%\n",
            "Accuracy of the network on the 10000 test images: 99.00%\n",
            "Accuracy of the network on the 10000 test images: 98.33%\n",
            "Accuracy of the network on the 10000 test images: 98.50%\n",
            "Accuracy of the network on the 10000 test images: 98.60%\n",
            "Accuracy of the network on the 10000 test images: 98.83%\n",
            "Accuracy of the network on the 10000 test images: 99.00%\n",
            "Accuracy of the network on the 10000 test images: 99.12%\n",
            "Accuracy of the network on the 10000 test images: 99.00%\n",
            "Accuracy of the network on the 10000 test images: 99.00%\n",
            "Accuracy of the network on the 10000 test images: 99.00%\n",
            "Accuracy of the network on the 10000 test images: 99.08%\n",
            "Accuracy of the network on the 10000 test images: 98.92%\n",
            "Accuracy of the network on the 10000 test images: 98.79%\n",
            "Accuracy of the network on the 10000 test images: 98.87%\n",
            "Accuracy of the network on the 10000 test images: 98.94%\n",
            "Accuracy of the network on the 10000 test images: 98.82%\n",
            "Accuracy of the network on the 10000 test images: 98.83%\n",
            "Accuracy of the network on the 10000 test images: 98.84%\n",
            "Accuracy of the network on the 10000 test images: 98.85%\n",
            "Accuracy of the network on the 10000 test images: 98.90%\n",
            "Accuracy of the network on the 10000 test images: 98.91%\n",
            "Accuracy of the network on the 10000 test images: 98.96%\n",
            "Accuracy of the network on the 10000 test images: 98.92%\n",
            "Accuracy of the network on the 10000 test images: 98.92%\n",
            "Accuracy of the network on the 10000 test images: 98.92%\n",
            "Accuracy of the network on the 10000 test images: 98.93%\n",
            "Accuracy of the network on the 10000 test images: 98.89%\n",
            "Accuracy of the network on the 10000 test images: 98.93%\n",
            "Accuracy of the network on the 10000 test images: 98.97%\n",
            "Accuracy of the network on the 10000 test images: 98.97%\n",
            "Accuracy of the network on the 10000 test images: 98.97%\n",
            "Accuracy of the network on the 10000 test images: 98.97%\n",
            "Accuracy of the network on the 10000 test images: 99.00%\n",
            "Accuracy of the network on the 10000 test images: 99.00%\n",
            "Accuracy of the network on the 10000 test images: 99.03%\n",
            "Accuracy of the network on the 10000 test images: 99.00%\n",
            "Accuracy of the network on the 10000 test images: 99.03%\n",
            "Accuracy of the network on the 10000 test images: 99.05%\n",
            "Accuracy of the network on the 10000 test images: 99.08%\n",
            "Accuracy of the network on the 10000 test images: 99.05%\n",
            "Accuracy of the network on the 10000 test images: 99.07%\n",
            "Accuracy of the network on the 10000 test images: 99.05%\n",
            "Accuracy of the network on the 10000 test images: 99.02%\n",
            "Accuracy of the network on the 10000 test images: 99.00%\n",
            "Accuracy of the network on the 10000 test images: 99.00%\n",
            "Accuracy of the network on the 10000 test images: 98.98%\n",
            "Accuracy of the network on the 10000 test images: 99.00%\n",
            "Accuracy of the network on the 10000 test images: 99.02%\n",
            "Accuracy of the network on the 10000 test images: 99.04%\n",
            "Accuracy of the network on the 10000 test images: 98.96%\n",
            "Accuracy of the network on the 10000 test images: 98.98%\n",
            "Accuracy of the network on the 10000 test images: 98.94%\n",
            "Accuracy of the network on the 10000 test images: 98.93%\n",
            "Accuracy of the network on the 10000 test images: 98.93%\n",
            "Accuracy of the network on the 10000 test images: 98.91%\n",
            "Accuracy of the network on the 10000 test images: 98.89%\n",
            "Accuracy of the network on the 10000 test images: 98.90%\n",
            "Accuracy of the network on the 10000 test images: 98.90%\n",
            "Accuracy of the network on the 10000 test images: 98.90%\n",
            "Accuracy of the network on the 10000 test images: 98.89%\n",
            "Accuracy of the network on the 10000 test images: 98.87%\n",
            "Accuracy of the network on the 10000 test images: 98.87%\n",
            "Accuracy of the network on the 10000 test images: 98.86%\n",
            "Accuracy of the network on the 10000 test images: 98.88%\n",
            "Accuracy of the network on the 10000 test images: 98.88%\n",
            "Accuracy of the network on the 10000 test images: 98.88%\n",
            "Accuracy of the network on the 10000 test images: 98.88%\n",
            "Accuracy of the network on the 10000 test images: 98.87%\n",
            "Accuracy of the network on the 10000 test images: 98.87%\n",
            "Accuracy of the network on the 10000 test images: 98.89%\n",
            "Accuracy of the network on the 10000 test images: 98.90%\n",
            "Accuracy of the network on the 10000 test images: 98.89%\n",
            "Accuracy of the network on the 10000 test images: 98.89%\n",
            "Accuracy of the network on the 10000 test images: 98.88%\n",
            "Accuracy of the network on the 10000 test images: 98.86%\n",
            "Accuracy of the network on the 10000 test images: 98.87%\n",
            "Accuracy of the network on the 10000 test images: 98.86%\n",
            "Accuracy of the network on the 10000 test images: 98.87%\n",
            "Accuracy of the network on the 10000 test images: 98.88%\n",
            "Accuracy of the network on the 10000 test images: 98.88%\n",
            "Accuracy of the network on the 10000 test images: 98.88%\n",
            "Accuracy of the network on the 10000 test images: 98.88%\n",
            "Accuracy of the network on the 10000 test images: 98.89%\n",
            "Accuracy of the network on the 10000 test images: 98.91%\n",
            "Accuracy of the network on the 10000 test images: 98.90%\n",
            "Accuracy of the network on the 10000 test images: 98.90%\n",
            "Accuracy of the network on the 10000 test images: 98.91%\n",
            "Accuracy of the network on the 10000 test images: 98.92%\n",
            "Accuracy of the network on the 10000 test images: 98.92%\n",
            "Accuracy of the network on the 10000 test images: 98.92%\n",
            "Accuracy of the network on the 10000 test images: 98.91%\n",
            "Accuracy of the network on the 10000 test images: 98.91%\n",
            "Accuracy of the network on the 10000 test images: 98.91%\n",
            "Accuracy of the network on the 10000 test images: 98.92%\n",
            "Accuracy of the network on the 10000 test images: 98.93%\n",
            "Accuracy of the network on the 10000 test images: 98.94%\n",
            "Accuracy of the network on the 10000 test images: 98.92%\n",
            "Accuracy of the network on the 10000 test images: 98.93%\n",
            "Accuracy of the network on the 10000 test images: 98.91%\n"
          ]
        }
      ],
      "source": [
        "correct=0\n",
        "total=0\n",
        "with torch.no_grad():\n",
        "  for data in test_loader:\n",
        "    images,labels=data\n",
        "    # outputs=model(images)   # cpu\n",
        "    images = images.to(device)  # cuda\n",
        "    labels = labels.to(device) # cuda\n",
        "    outputs=model(images)   # cuda\n",
        "    _,predicted=torch.max(outputs.data,1)\n",
        "    total+=labels.size(0)\n",
        "    correct+=(predicted==labels).sum().item()\n",
        "    print(f'Accuracy of the network on the 10000 test images: {100*correct/total :.2f}%')"
      ]
    },
    {
      "cell_type": "code",
      "execution_count": null,
      "metadata": {
        "id": "Oxi_Ls_COl-n",
        "colab": {
          "base_uri": "https://localhost:8080/",
          "height": 177
        },
        "outputId": "f571cf92-bf3c-4844-a1b5-fe46f1e7bdda"
      },
      "outputs": [
        {
          "output_type": "display_data",
          "data": {
            "text/plain": [
              "<IPython.core.display.HTML object>"
            ],
            "text/html": [
              "\n",
              "     <input type=\"file\" id=\"files-747e5c3c-364a-4ba5-97e8-cd820068582b\" name=\"files[]\" multiple disabled\n",
              "        style=\"border:none\" />\n",
              "     <output id=\"result-747e5c3c-364a-4ba5-97e8-cd820068582b\">\n",
              "      Upload widget is only available when the cell has been executed in the\n",
              "      current browser session. Please rerun this cell to enable.\n",
              "      </output>\n",
              "      <script>// Copyright 2017 Google LLC\n",
              "//\n",
              "// Licensed under the Apache License, Version 2.0 (the \"License\");\n",
              "// you may not use this file except in compliance with the License.\n",
              "// You may obtain a copy of the License at\n",
              "//\n",
              "//      http://www.apache.org/licenses/LICENSE-2.0\n",
              "//\n",
              "// Unless required by applicable law or agreed to in writing, software\n",
              "// distributed under the License is distributed on an \"AS IS\" BASIS,\n",
              "// WITHOUT WARRANTIES OR CONDITIONS OF ANY KIND, either express or implied.\n",
              "// See the License for the specific language governing permissions and\n",
              "// limitations under the License.\n",
              "\n",
              "/**\n",
              " * @fileoverview Helpers for google.colab Python module.\n",
              " */\n",
              "(function(scope) {\n",
              "function span(text, styleAttributes = {}) {\n",
              "  const element = document.createElement('span');\n",
              "  element.textContent = text;\n",
              "  for (const key of Object.keys(styleAttributes)) {\n",
              "    element.style[key] = styleAttributes[key];\n",
              "  }\n",
              "  return element;\n",
              "}\n",
              "\n",
              "// Max number of bytes which will be uploaded at a time.\n",
              "const MAX_PAYLOAD_SIZE = 100 * 1024;\n",
              "\n",
              "function _uploadFiles(inputId, outputId) {\n",
              "  const steps = uploadFilesStep(inputId, outputId);\n",
              "  const outputElement = document.getElementById(outputId);\n",
              "  // Cache steps on the outputElement to make it available for the next call\n",
              "  // to uploadFilesContinue from Python.\n",
              "  outputElement.steps = steps;\n",
              "\n",
              "  return _uploadFilesContinue(outputId);\n",
              "}\n",
              "\n",
              "// This is roughly an async generator (not supported in the browser yet),\n",
              "// where there are multiple asynchronous steps and the Python side is going\n",
              "// to poll for completion of each step.\n",
              "// This uses a Promise to block the python side on completion of each step,\n",
              "// then passes the result of the previous step as the input to the next step.\n",
              "function _uploadFilesContinue(outputId) {\n",
              "  const outputElement = document.getElementById(outputId);\n",
              "  const steps = outputElement.steps;\n",
              "\n",
              "  const next = steps.next(outputElement.lastPromiseValue);\n",
              "  return Promise.resolve(next.value.promise).then((value) => {\n",
              "    // Cache the last promise value to make it available to the next\n",
              "    // step of the generator.\n",
              "    outputElement.lastPromiseValue = value;\n",
              "    return next.value.response;\n",
              "  });\n",
              "}\n",
              "\n",
              "/**\n",
              " * Generator function which is called between each async step of the upload\n",
              " * process.\n",
              " * @param {string} inputId Element ID of the input file picker element.\n",
              " * @param {string} outputId Element ID of the output display.\n",
              " * @return {!Iterable<!Object>} Iterable of next steps.\n",
              " */\n",
              "function* uploadFilesStep(inputId, outputId) {\n",
              "  const inputElement = document.getElementById(inputId);\n",
              "  inputElement.disabled = false;\n",
              "\n",
              "  const outputElement = document.getElementById(outputId);\n",
              "  outputElement.innerHTML = '';\n",
              "\n",
              "  const pickedPromise = new Promise((resolve) => {\n",
              "    inputElement.addEventListener('change', (e) => {\n",
              "      resolve(e.target.files);\n",
              "    });\n",
              "  });\n",
              "\n",
              "  const cancel = document.createElement('button');\n",
              "  inputElement.parentElement.appendChild(cancel);\n",
              "  cancel.textContent = 'Cancel upload';\n",
              "  const cancelPromise = new Promise((resolve) => {\n",
              "    cancel.onclick = () => {\n",
              "      resolve(null);\n",
              "    };\n",
              "  });\n",
              "\n",
              "  // Wait for the user to pick the files.\n",
              "  const files = yield {\n",
              "    promise: Promise.race([pickedPromise, cancelPromise]),\n",
              "    response: {\n",
              "      action: 'starting',\n",
              "    }\n",
              "  };\n",
              "\n",
              "  cancel.remove();\n",
              "\n",
              "  // Disable the input element since further picks are not allowed.\n",
              "  inputElement.disabled = true;\n",
              "\n",
              "  if (!files) {\n",
              "    return {\n",
              "      response: {\n",
              "        action: 'complete',\n",
              "      }\n",
              "    };\n",
              "  }\n",
              "\n",
              "  for (const file of files) {\n",
              "    const li = document.createElement('li');\n",
              "    li.append(span(file.name, {fontWeight: 'bold'}));\n",
              "    li.append(span(\n",
              "        `(${file.type || 'n/a'}) - ${file.size} bytes, ` +\n",
              "        `last modified: ${\n",
              "            file.lastModifiedDate ? file.lastModifiedDate.toLocaleDateString() :\n",
              "                                    'n/a'} - `));\n",
              "    const percent = span('0% done');\n",
              "    li.appendChild(percent);\n",
              "\n",
              "    outputElement.appendChild(li);\n",
              "\n",
              "    const fileDataPromise = new Promise((resolve) => {\n",
              "      const reader = new FileReader();\n",
              "      reader.onload = (e) => {\n",
              "        resolve(e.target.result);\n",
              "      };\n",
              "      reader.readAsArrayBuffer(file);\n",
              "    });\n",
              "    // Wait for the data to be ready.\n",
              "    let fileData = yield {\n",
              "      promise: fileDataPromise,\n",
              "      response: {\n",
              "        action: 'continue',\n",
              "      }\n",
              "    };\n",
              "\n",
              "    // Use a chunked sending to avoid message size limits. See b/62115660.\n",
              "    let position = 0;\n",
              "    do {\n",
              "      const length = Math.min(fileData.byteLength - position, MAX_PAYLOAD_SIZE);\n",
              "      const chunk = new Uint8Array(fileData, position, length);\n",
              "      position += length;\n",
              "\n",
              "      const base64 = btoa(String.fromCharCode.apply(null, chunk));\n",
              "      yield {\n",
              "        response: {\n",
              "          action: 'append',\n",
              "          file: file.name,\n",
              "          data: base64,\n",
              "        },\n",
              "      };\n",
              "\n",
              "      let percentDone = fileData.byteLength === 0 ?\n",
              "          100 :\n",
              "          Math.round((position / fileData.byteLength) * 100);\n",
              "      percent.textContent = `${percentDone}% done`;\n",
              "\n",
              "    } while (position < fileData.byteLength);\n",
              "  }\n",
              "\n",
              "  // All done.\n",
              "  yield {\n",
              "    response: {\n",
              "      action: 'complete',\n",
              "    }\n",
              "  };\n",
              "}\n",
              "\n",
              "scope.google = scope.google || {};\n",
              "scope.google.colab = scope.google.colab || {};\n",
              "scope.google.colab._files = {\n",
              "  _uploadFiles,\n",
              "  _uploadFilesContinue,\n",
              "};\n",
              "})(self);\n",
              "</script> "
            ]
          },
          "metadata": {}
        },
        {
          "output_type": "stream",
          "name": "stdout",
          "text": [
            "Saving img181.png to img181.png\n",
            "Saving img185.png to img185.png\n",
            "Saving img187.png to img187.png\n",
            "Saving img191.png to img191.png\n"
          ]
        }
      ],
      "source": [
        "from google.colab import files\n",
        "up = files.upload()\n"
      ]
    },
    {
      "cell_type": "code",
      "source": [
        "import io\n",
        "filename = next(iter(up))\n",
        "image_bytes = up[filename]\n",
        "image = Image.open(io.BytesIO(image_bytes))"
      ],
      "metadata": {
        "id": "0GScqC7Ily4u"
      },
      "execution_count": null,
      "outputs": []
    },
    {
      "cell_type": "code",
      "execution_count": null,
      "metadata": {
        "id": "V_CZu6TLOwIn"
      },
      "outputs": [],
      "source": [
        "transformer = transforms.Compose([\n",
        "    transforms.ToTensor(),\n",
        "    transforms.Resize((28, 28)),\n",
        "    transforms.Normalize((0.5,), (0.5,)),\n",
        "])\n",
        "img = transformer(image)\n",
        "# img = img.unsqueeze(0).to(device)"
      ]
    },
    {
      "cell_type": "code",
      "source": [
        "# plt.imshow(img.permute(1, 2, 0))\n"
      ],
      "metadata": {
        "id": "dusE9B17mlV1"
      },
      "execution_count": null,
      "outputs": []
    },
    {
      "cell_type": "code",
      "source": [
        "# img=Image.open('img196.png').convert('L')\n",
        "# # img.resize((28,28))"
      ],
      "metadata": {
        "id": "hwFgvBMVZHFP"
      },
      "execution_count": null,
      "outputs": []
    },
    {
      "cell_type": "code",
      "execution_count": null,
      "metadata": {
        "colab": {
          "base_uri": "https://localhost:8080/",
          "height": 1000
        },
        "id": "Lq4NJUWROwx3",
        "outputId": "b8630951-df2c-4ce2-8fb7-870c42170f43"
      },
      "outputs": [
        {
          "output_type": "display_data",
          "data": {
            "text/plain": [
              "<Figure size 640x480 with 1 Axes>"
            ],
            "image/png": "[encoded data removed]"
          },
          "metadata": {}
        },
        {
          "output_type": "stream",
          "name": "stdout",
          "text": [
            "Prediction for part 1 of image img181.png: 1\n",
            "The three-digit number in image img181.png is: 1\n"
          ]
        },
        {
          "output_type": "display_data",
          "data": {
            "text/plain": [
              "<Figure size 640x480 with 1 Axes>"
            ],
            "image/png": "[encoded data removed]"
          },
          "metadata": {}
        },
        {
          "output_type": "stream",
          "name": "stdout",
          "text": [
            "Prediction for part 2 of image img181.png: 8\n",
            "The three-digit number in image img181.png is: 18\n"
          ]
        },
        {
          "output_type": "display_data",
          "data": {
            "text/plain": [
              "<Figure size 640x480 with 1 Axes>"
            ],
            "image/png": "[encoded data removed]"
          },
          "metadata": {}
        },
        {
          "output_type": "stream",
          "name": "stdout",
          "text": [
            "Prediction for part 3 of image img181.png: 1\n",
            "The three-digit number in image img181.png is: 181\n"
          ]
        },
        {
          "output_type": "display_data",
          "data": {
            "text/plain": [
              "<Figure size 640x480 with 1 Axes>"
            ],
            "image/png": "[encoded data removed]"
          },
          "metadata": {}
        },
        {
          "output_type": "stream",
          "name": "stdout",
          "text": [
            "Prediction for part 1 of image img185.png: 1\n",
            "The three-digit number in image img185.png is: 1\n"
          ]
        },
        {
          "output_type": "display_data",
          "data": {
            "text/plain": [
              "<Figure size 640x480 with 1 Axes>"
            ],
            "image/png": "[encoded data removed]"
          },
          "metadata": {}
        },
        {
          "output_type": "stream",
          "name": "stdout",
          "text": [
            "Prediction for part 2 of image img185.png: 8\n",
            "The three-digit number in image img185.png is: 18\n"
          ]
        },
        {
          "output_type": "display_data",
          "data": {
            "text/plain": [
              "<Figure size 640x480 with 1 Axes>"
            ],
            "image/png": "[encoded data removed]"
          },
          "metadata": {}
        },
        {
          "output_type": "stream",
          "name": "stdout",
          "text": [
            "Prediction for part 3 of image img185.png: 5\n",
            "The three-digit number in image img185.png is: 185\n"
          ]
        },
        {
          "output_type": "display_data",
          "data": {
            "text/plain": [
              "<Figure size 640x480 with 1 Axes>"
            ],
            "image/png": "[encoded data removed]"
          },
          "metadata": {}
        },
        {
          "output_type": "stream",
          "name": "stdout",
          "text": [
            "Prediction for part 1 of image img187.png: 1\n",
            "The three-digit number in image img187.png is: 1\n"
          ]
        },
        {
          "output_type": "display_data",
          "data": {
            "text/plain": [
              "<Figure size 640x480 with 1 Axes>"
            ],
            "image/png": "[encoded data removed]"
          },
          "metadata": {}
        },
        {
          "output_type": "stream",
          "name": "stdout",
          "text": [
            "Prediction for part 2 of image img187.png: 8\n",
            "The three-digit number in image img187.png is: 18\n"
          ]
        },
        {
          "output_type": "display_data",
          "data": {
            "text/plain": [
              "<Figure size 640x480 with 1 Axes>"
            ],
            "image/png": "[encoded data removed]"
          },
          "metadata": {}
        },
        {
          "output_type": "stream",
          "name": "stdout",
          "text": [
            "Prediction for part 3 of image img187.png: 7\n",
            "The three-digit number in image img187.png is: 187\n"
          ]
        },
        {
          "output_type": "display_data",
          "data": {
            "text/plain": [
              "<Figure size 640x480 with 1 Axes>"
            ],
            "image/png": "[encoded data removed]"
          },
          "metadata": {}
        },
        {
          "output_type": "stream",
          "name": "stdout",
          "text": [
            "Prediction for part 1 of image img191.png: 1\n",
            "The three-digit number in image img191.png is: 1\n"
          ]
        },
        {
          "output_type": "display_data",
          "data": {
            "text/plain": [
              "<Figure size 640x480 with 1 Axes>"
            ],
            "image/png": "[encoded data removed]"
          },
          "metadata": {}
        },
        {
          "output_type": "stream",
          "name": "stdout",
          "text": [
            "Prediction for part 2 of image img191.png: 9\n",
            "The three-digit number in image img191.png is: 19\n"
          ]
        },
        {
          "output_type": "display_data",
          "data": {
            "text/plain": [
              "<Figure size 640x480 with 1 Axes>"
            ],
            "image/png": "[encoded data removed]"
          },
          "metadata": {}
        },
        {
          "output_type": "stream",
          "name": "stdout",
          "text": [
            "Prediction for part 3 of image img191.png: 1\n",
            "The three-digit number in image img191.png is: 191\n"
          ]
        }
      ],
      "source": [
        "model.eval()\n",
        "model.to(device)\n",
        "all_results = []\n",
        "for j in up.keys():\n",
        "    img = Image.open(j)\n",
        "    # img = img.resize((28, 28))   # if this is line comment\n",
        "    width, height = img.size\n",
        "    part_width = width // 3\n",
        "    result = \"\"\n",
        "    for k in range(3):\n",
        "        left = k * part_width\n",
        "        right = (k + 1) * part_width\n",
        "        img_part = img.crop((left, 0, right,height)).convert('L')\n",
        "        for i in _:\n",
        "            img_part = img_part.convert('L')\n",
        "            img_tensor = transformer(img_part)\n",
        "            img_tensor = img_tensor.unsqueeze(0).to(device)\n",
        "\n",
        "            plt.imshow(img_part, cmap='gray')\n",
        "            plt.title(f'Cropped Part {k+1}')\n",
        "            plt.axis('off')\n",
        "            plt.show()\n",
        "\n",
        "            with torch.no_grad():\n",
        "                output = model(img_tensor)\n",
        "                _, predicted = torch.max(output.data, 1)\n",
        "\n",
        "            result += str(predicted.item())\n",
        "            print(f\"Prediction for part {k+1} of image {j}: {predicted.item()}\")\n",
        "\n",
        "\n",
        "        print(f\"The three-digit number in image {j} is:\", result)\n",
        "        all_results.append(result)"
      ]
    },
    {
      "cell_type": "code",
      "source": [
        "!pip install jdatetime"
      ],
      "metadata": {
        "colab": {
          "base_uri": "https://localhost:8080/"
        },
        "id": "LdMX4KGHrxdY",
        "outputId": "e1b2f0b3-e815-46ff-df6a-01de3522c556"
      },
      "execution_count": null,
      "outputs": [
        {
          "output_type": "stream",
          "name": "stdout",
          "text": [
            "Collecting jdatetime\n",
            "  Downloading jdatetime-5.0.0-py3-none-any.whl.metadata (5.4 kB)\n",
            "Collecting jalali-core>=1.0 (from jdatetime)\n",
            "  Downloading jalali_core-1.0.0-py3-none-any.whl.metadata (738 bytes)\n",
            "Downloading jdatetime-5.0.0-py3-none-any.whl (12 kB)\n",
            "Downloading jalali_core-1.0.0-py3-none-any.whl (3.6 kB)\n",
            "Installing collected packages: jalali-core, jdatetime\n",
            "Successfully installed jalali-core-1.0.0 jdatetime-5.0.0\n"
          ]
        }
      ]
    },
    {
      "cell_type": "code",
      "source": [
        "import datetime\n",
        "import pandas as pd\n",
        "from time import strftime\n",
        "import jdatetime\n",
        "import pytz\n",
        "\n",
        "# for i in range(1,1000):             # For data in refesh\n",
        "#   time.sleep(0.1)\n",
        "tz_Tehran = pytz.timezone('Asia/Tehran')\n",
        "time = datetime.datetime.now(tz_Tehran).strftime(\"%H:%M:%S\")\n",
        "date = jdatetime.datetime.now().strftime(\"%Y-%m-%d\")\n",
        "\n",
        "# print(all_results)\n",
        "\n",
        "Biodata = {\n",
        "    'Device': ['1', '2','3','4'],\n",
        "    'Prediction':[all_results[2],all_results[5],all_results[8],all_results[11]], # Added a blank element to match the length of 'Device'\n",
        "    'Date': [date, date, date, date],\n",
        "    'Time': [time,time, time, time],\n",
        "}\n",
        "\n",
        "\n",
        "df = pd.DataFrame(Biodata)\n",
        "df.to_csv('Detect.csv', index=False)\n",
        "\n",
        "\n",
        "files.download('Detect.csv')"
      ],
      "metadata": {
        "id": "OU4kmm5RrqHD",
        "colab": {
          "base_uri": "https://localhost:8080/",
          "height": 17
        },
        "outputId": "471db09a-71d0-431c-aac2-146dd5aee230"
      },
      "execution_count": null,
      "outputs": [
        {
          "output_type": "display_data",
          "data": {
            "text/plain": [
              "<IPython.core.display.Javascript object>"
            ],
            "application/javascript": [
              "\n",
              "    async function download(id, filename, size) {\n",
              "      if (!google.colab.kernel.accessAllowed) {\n",
              "        return;\n",
              "      }\n",
              "      const div = document.createElement('div');\n",
              "      const label = document.createElement('label');\n",
              "      label.textContent = `Downloading \"${filename}\": `;\n",
              "      div.appendChild(label);\n",
              "      const progress = document.createElement('progress');\n",
              "      progress.max = size;\n",
              "      div.appendChild(progress);\n",
              "      document.body.appendChild(div);\n",
              "\n",
              "      const buffers = [];\n",
              "      let downloaded = 0;\n",
              "\n",
              "      const channel = await google.colab.kernel.comms.open(id);\n",
              "      // Send a message to notify the kernel that we're ready.\n",
              "      channel.send({})\n",
              "\n",
              "      for await (const message of channel.messages) {\n",
              "        // Send a message to notify the kernel that we're ready.\n",
              "        channel.send({})\n",
              "        if (message.buffers) {\n",
              "          for (const buffer of message.buffers) {\n",
              "            buffers.push(buffer);\n",
              "            downloaded += buffer.byteLength;\n",
              "            progress.value = downloaded;\n",
              "          }\n",
              "        }\n",
              "      }\n",
              "      const blob = new Blob(buffers, {type: 'application/binary'});\n",
              "      const a = document.createElement('a');\n",
              "      a.href = window.URL.createObjectURL(blob);\n",
              "      a.download = filename;\n",
              "      div.appendChild(a);\n",
              "      a.click();\n",
              "      div.remove();\n",
              "    }\n",
              "  "
            ]
          },
          "metadata": {}
        },
        {
          "output_type": "display_data",
          "data": {
            "text/plain": [
              "<IPython.core.display.Javascript object>"
            ],
            "application/javascript": [
              "download(\"download_33fdfd17-c537-4eda-aaae-38527559c671\", \"Detect.csv\", 132)"
            ]
          },
          "metadata": {}
        }
      ]
    },
    {
      "cell_type": "code",
      "source": [
        "print(df)"
      ],
      "metadata": {
        "colab": {
          "base_uri": "https://localhost:8080/"
        },
        "id": "lSf1BEnisPSS",
        "outputId": "9f855944-aeaa-46e8-cc27-51968ef68b1d"
      },
      "execution_count": null,
      "outputs": [
        {
          "output_type": "stream",
          "name": "stdout",
          "text": [
            "  Device Prediction        Date      Time\n",
            "0      1        181  1403-07-07  16:30:52\n",
            "1      2        185  1403-07-07  16:30:52\n",
            "2      3        187  1403-07-07  16:30:52\n",
            "3      4        191  1403-07-07  16:30:52\n"
          ]
        }
      ]
    },
    {
      "cell_type": "markdown",
      "source": [
        "# Why do you connect to img in transformer\n",
        "# why do you write -> img = img.resize((28, 28))\n"
      ],
      "metadata": {
        "id": "xpopXii_o1Sj"
      }
    }
  ],
  "metadata": {
    "colab": {
      "provenance": [],
      "gpuType": "T4"
    },
    "kernelspec": {
      "display_name": "Python 3",
      "name": "python3"
    },
    "language_info": {
      "name": "python"
    },
    "accelerator": "GPU"
  },
  "nbformat": 4,
  "nbformat_minor": 0
}
