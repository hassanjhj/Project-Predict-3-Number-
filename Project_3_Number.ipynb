{
  "cells": [
    {
      "cell_type": "code",
      "execution_count": 1,
      "metadata": {
        "id": "eAjMN4CINoUV"
      },
      "outputs": [],
      "source": [
        "import torch\n",
        "import torch.nn as nn\n",
        "import torch.nn.functional as F\n",
        "import torch.optim as optim\n",
        "import torchvision\n",
        "import torchvision.datasets as datasets\n",
        "from torchvision import transforms\n",
        "\n",
        "from torch.utils.data import DataLoader\n",
        "from torch.utils.data import random_split\n",
        "import copy\n",
        "import numpy as np\n",
        "import matplotlib.pyplot as plt\n",
        "import time\n",
        "import os\n",
        "\n",
        "from torchvision.models import vgg16\n",
        "\n",
        "from PIL import Image"
      ]
    },
    {
      "cell_type": "code",
      "execution_count": 2,
      "metadata": {
        "id": "-pePnepkNvMo"
      },
      "outputs": [],
      "source": [
        "transformer= transforms.Compose([\n",
        "    transforms.ToTensor(),\n",
        "    transforms.Normalize(0.5,0.5)\n",
        "\n",
        "])"
      ]
    },
    {
      "cell_type": "code",
      "execution_count": 3,
      "metadata": {
        "colab": {
          "base_uri": "https://localhost:8080/",
          "height": 0
        },
        "id": "9rOJMTWWN3xb",
        "outputId": "1fd1fea6-ad87-49f4-f9ad-ce087471c7e5"
      },
      "outputs": [
        {
          "output_type": "stream",
          "name": "stdout",
          "text": [
            "Downloading http://yann.lecun.com/exdb/mnist/train-images-idx3-ubyte.gz\n",
            "Failed to download (trying next):\n",
            "HTTP Error 403: Forbidden\n",
            "\n",
            "Downloading https://ossci-datasets.s3.amazonaws.com/mnist/train-images-idx3-ubyte.gz\n",
            "Downloading https://ossci-datasets.s3.amazonaws.com/mnist/train-images-idx3-ubyte.gz to data/MNIST/raw/train-images-idx3-ubyte.gz\n"
          ]
        },
        {
          "output_type": "stream",
          "name": "stderr",
          "text": [
            "100%|██████████| 9912422/9912422 [00:00<00:00, 16178742.27it/s]\n"
          ]
        },
        {
          "output_type": "stream",
          "name": "stdout",
          "text": [
            "Extracting data/MNIST/raw/train-images-idx3-ubyte.gz to data/MNIST/raw\n",
            "\n",
            "Downloading http://yann.lecun.com/exdb/mnist/train-labels-idx1-ubyte.gz\n",
            "Failed to download (trying next):\n",
            "HTTP Error 403: Forbidden\n",
            "\n",
            "Downloading https://ossci-datasets.s3.amazonaws.com/mnist/train-labels-idx1-ubyte.gz\n",
            "Downloading https://ossci-datasets.s3.amazonaws.com/mnist/train-labels-idx1-ubyte.gz to data/MNIST/raw/train-labels-idx1-ubyte.gz\n"
          ]
        },
        {
          "output_type": "stream",
          "name": "stderr",
          "text": [
            "100%|██████████| 28881/28881 [00:00<00:00, 485763.01it/s]\n"
          ]
        },
        {
          "output_type": "stream",
          "name": "stdout",
          "text": [
            "Extracting data/MNIST/raw/train-labels-idx1-ubyte.gz to data/MNIST/raw\n",
            "\n",
            "Downloading http://yann.lecun.com/exdb/mnist/t10k-images-idx3-ubyte.gz\n",
            "Failed to download (trying next):\n",
            "HTTP Error 403: Forbidden\n",
            "\n",
            "Downloading https://ossci-datasets.s3.amazonaws.com/mnist/t10k-images-idx3-ubyte.gz\n",
            "Downloading https://ossci-datasets.s3.amazonaws.com/mnist/t10k-images-idx3-ubyte.gz to data/MNIST/raw/t10k-images-idx3-ubyte.gz\n"
          ]
        },
        {
          "output_type": "stream",
          "name": "stderr",
          "text": [
            "100%|██████████| 1648877/1648877 [00:00<00:00, 4482113.00it/s]\n"
          ]
        },
        {
          "output_type": "stream",
          "name": "stdout",
          "text": [
            "Extracting data/MNIST/raw/t10k-images-idx3-ubyte.gz to data/MNIST/raw\n",
            "\n",
            "Downloading http://yann.lecun.com/exdb/mnist/t10k-labels-idx1-ubyte.gz\n",
            "Failed to download (trying next):\n",
            "HTTP Error 403: Forbidden\n",
            "\n",
            "Downloading https://ossci-datasets.s3.amazonaws.com/mnist/t10k-labels-idx1-ubyte.gz\n",
            "Downloading https://ossci-datasets.s3.amazonaws.com/mnist/t10k-labels-idx1-ubyte.gz to data/MNIST/raw/t10k-labels-idx1-ubyte.gz\n"
          ]
        },
        {
          "output_type": "stream",
          "name": "stderr",
          "text": [
            "100%|██████████| 4542/4542 [00:00<00:00, 4502606.66it/s]"
          ]
        },
        {
          "output_type": "stream",
          "name": "stdout",
          "text": [
            "Extracting data/MNIST/raw/t10k-labels-idx1-ubyte.gz to data/MNIST/raw\n",
            "\n"
          ]
        },
        {
          "output_type": "stream",
          "name": "stderr",
          "text": [
            "\n"
          ]
        }
      ],
      "source": [
        "train_data=datasets.MNIST(\n",
        "                          root='data',\n",
        "                          train=True,\n",
        "                          transform=transformer,\n",
        "                          download=True\n",
        "                          )\n",
        "test_data=datasets.MNIST(\n",
        "                        root='data',\n",
        "                        train=False,\n",
        "                        download=True,\n",
        "                        transform=transformer)\n",
        "\n",
        "train_loader=DataLoader(train_data,batch_size=100,shuffle=True)\n",
        "test_loader=DataLoader(test_data,batch_size=100,shuffle=True)"
      ]
    },
    {
      "cell_type": "code",
      "execution_count": 4,
      "metadata": {
        "colab": {
          "base_uri": "https://localhost:8080/",
          "height": 452
        },
        "id": "ECUUg1Pach2B",
        "outputId": "913a7992-9028-441a-d9fa-fc4e182c5623"
      },
      "outputs": [
        {
          "output_type": "display_data",
          "data": {
            "text/plain": [
              "<Figure size 640x480 with 1 Axes>"
            ],
            "image/png": "[encoded data removed]"
          },
          "metadata": {}
        }
      ],
      "source": [
        "image, label = train_data[166]\n",
        "plt.imshow(image.permute(1, 2, 0).squeeze(), cmap='gray')\n",
        "plt.title(f\"Label: {label}\")\n",
        "plt.show()"
      ]
    },
    {
      "cell_type": "code",
      "execution_count": 5,
      "metadata": {
        "id": "PQWKdSl_N8LF"
      },
      "outputs": [],
      "source": [
        "class ImprovedCNN(nn.Module):\n",
        "  def __init__(self):\n",
        "    super(ImprovedCNN, self).__init__()\n",
        "    self.conv1=nn.Conv2d(1,32,kernel_size=3,padding=1)\n",
        "    self.bn1=nn.BatchNorm2d(32)\n",
        "    self.conv2=nn.Conv2d(32,64,kernel_size=3,padding=1)\n",
        "    self.bn2=nn.BatchNorm2d(64)\n",
        "    self.conv3=nn.Conv2d(64,128,kernel_size=3,padding=1)\n",
        "    self.bn3=nn.BatchNorm2d(128)\n",
        "    self.pool=nn.MaxPool2d(2,2)\n",
        "    self.dropout=nn.Dropout(p=0.5)\n",
        "    self.fc1=nn.Linear(128*3*3,256)\n",
        "    self.fc2=nn.Linear(256,10)\n",
        "  def forward(self,x):\n",
        "    x=self.pool(torch.relu(self.bn1(self.conv1(x))))\n",
        "    x=self.pool(torch.relu(self.bn2(self.conv2(x))))\n",
        "    x=self.pool(torch.relu(self.bn3(self.conv3(x))))\n",
        "    x=x.view(-1,128*3*3)\n",
        "    x=F.relu(self.fc1(x))\n",
        "    x=self.dropout(x)\n",
        "    x=self.fc2(x)\n",
        "    return x\n",
        "model=ImprovedCNN()"
      ]
    },
    {
      "cell_type": "code",
      "execution_count": 6,
      "metadata": {
        "colab": {
          "base_uri": "https://localhost:8080/",
          "height": 0
        },
        "id": "SFSTcS0fOBdX",
        "outputId": "c0e819af-1fa1-411b-cf4b-baad3a9fcd3b"
      },
      "outputs": [
        {
          "output_type": "execute_result",
          "data": {
            "text/plain": [
              "ImprovedCNN(\n",
              "  (conv1): Conv2d(1, 32, kernel_size=(3, 3), stride=(1, 1), padding=(1, 1))\n",
              "  (bn1): BatchNorm2d(32, eps=1e-05, momentum=0.1, affine=True, track_running_stats=True)\n",
              "  (conv2): Conv2d(32, 64, kernel_size=(3, 3), stride=(1, 1), padding=(1, 1))\n",
              "  (bn2): BatchNorm2d(64, eps=1e-05, momentum=0.1, affine=True, track_running_stats=True)\n",
              "  (conv3): Conv2d(64, 128, kernel_size=(3, 3), stride=(1, 1), padding=(1, 1))\n",
              "  (bn3): BatchNorm2d(128, eps=1e-05, momentum=0.1, affine=True, track_running_stats=True)\n",
              "  (pool): MaxPool2d(kernel_size=2, stride=2, padding=0, dilation=1, ceil_mode=False)\n",
              "  (dropout): Dropout(p=0.5, inplace=False)\n",
              "  (fc1): Linear(in_features=1152, out_features=256, bias=True)\n",
              "  (fc2): Linear(in_features=256, out_features=10, bias=True)\n",
              ")"
            ]
          },
          "metadata": {},
          "execution_count": 6
        }
      ],
      "source": [
        "device=torch.device(\"cuda\" if torch.cuda.is_available() else \"cpu\")\n",
        "model.to(device)"
      ]
    },
    {
      "cell_type": "code",
      "execution_count": 7,
      "metadata": {
        "id": "EFN_Es3aOIMb"
      },
      "outputs": [],
      "source": [
        "Loss_fn=nn.CrossEntropyLoss()\n",
        "optimizer=optim.Adam(model.parameters(),lr=0.001)"
      ]
    },
    {
      "cell_type": "code",
      "execution_count": 8,
      "metadata": {
        "colab": {
          "base_uri": "https://localhost:8080/",
          "height": 0
        },
        "id": "cn97kGOdOLyT",
        "outputId": "a1bbdce0-016a-462a-a5b7-f452e2b3873a"
      },
      "outputs": [
        {
          "output_type": "stream",
          "name": "stdout",
          "text": [
            "Train Epoch: 1 , Batch :100 , Loss: 0.476\n",
            "Train Epoch: 1 , Batch :200 , Loss: 0.123\n",
            "Train Epoch: 1 , Batch :300 , Loss: 0.094\n",
            "Train Epoch: 1 , Batch :400 , Loss: 0.094\n",
            "Train Epoch: 1 , Batch :500 , Loss: 0.071\n",
            "Train Epoch: 1 , Batch :600 , Loss: 0.066\n",
            "Train Epoch: 2 , Batch :100 , Loss: 0.060\n",
            "Train Epoch: 2 , Batch :200 , Loss: 0.048\n",
            "Train Epoch: 2 , Batch :300 , Loss: 0.056\n",
            "Train Epoch: 2 , Batch :400 , Loss: 0.048\n",
            "Train Epoch: 2 , Batch :500 , Loss: 0.045\n",
            "Train Epoch: 2 , Batch :600 , Loss: 0.052\n",
            "Train Epoch: 3 , Batch :100 , Loss: 0.034\n",
            "Train Epoch: 3 , Batch :200 , Loss: 0.041\n",
            "Train Epoch: 3 , Batch :300 , Loss: 0.034\n",
            "Train Epoch: 3 , Batch :400 , Loss: 0.041\n",
            "Train Epoch: 3 , Batch :500 , Loss: 0.043\n",
            "Train Epoch: 3 , Batch :600 , Loss: 0.045\n",
            "Train Epoch: 4 , Batch :100 , Loss: 0.034\n",
            "Train Epoch: 4 , Batch :200 , Loss: 0.032\n",
            "Train Epoch: 4 , Batch :300 , Loss: 0.036\n",
            "Train Epoch: 4 , Batch :400 , Loss: 0.031\n",
            "Train Epoch: 4 , Batch :500 , Loss: 0.032\n",
            "Train Epoch: 4 , Batch :600 , Loss: 0.029\n",
            "Train Epoch: 5 , Batch :100 , Loss: 0.025\n",
            "Train Epoch: 5 , Batch :200 , Loss: 0.023\n",
            "Train Epoch: 5 , Batch :300 , Loss: 0.030\n",
            "Train Epoch: 5 , Batch :400 , Loss: 0.024\n",
            "Train Epoch: 5 , Batch :500 , Loss: 0.021\n",
            "Train Epoch: 5 , Batch :600 , Loss: 0.030\n",
            "Train Epoch: 6 , Batch :100 , Loss: 0.020\n",
            "Train Epoch: 6 , Batch :200 , Loss: 0.018\n",
            "Train Epoch: 6 , Batch :300 , Loss: 0.021\n",
            "Train Epoch: 6 , Batch :400 , Loss: 0.024\n",
            "Train Epoch: 6 , Batch :500 , Loss: 0.026\n",
            "Train Epoch: 6 , Batch :600 , Loss: 0.025\n",
            "Train Epoch: 7 , Batch :100 , Loss: 0.020\n",
            "Train Epoch: 7 , Batch :200 , Loss: 0.019\n",
            "Train Epoch: 7 , Batch :300 , Loss: 0.015\n",
            "Train Epoch: 7 , Batch :400 , Loss: 0.018\n",
            "Train Epoch: 7 , Batch :500 , Loss: 0.016\n",
            "Train Epoch: 7 , Batch :600 , Loss: 0.017\n",
            "Finished Training\n"
          ]
        }
      ],
      "source": [
        "for epoch in range(7):\n",
        "  running_loss=0\n",
        "  for i,data in enumerate(train_loader,0):\n",
        "\n",
        "    inputs,labels=data\n",
        "    optimizer.zero_grad()\n",
        "    # output=model(inputs)   # cpu\n",
        "    output=model(inputs.to(device))   # cuda\n",
        "    # loss=Loss_fn(output,labels)  # cpu\n",
        "    loss=Loss_fn(output,labels.to(device))   # cuda\n",
        "    loss.backward()\n",
        "    optimizer.step()\n",
        "    running_loss+=loss.item()\n",
        "    if i % 100 == 99:\n",
        "      print(f'Train Epoch: {epoch +1} , Batch :{i+1} , Loss: {running_loss/100 :.3f}')\n",
        "      running_loss=0.0\n",
        "\n",
        "print('Finished Training')\n"
      ]
    },
    {
      "cell_type": "code",
      "execution_count": 9,
      "metadata": {
        "colab": {
          "base_uri": "https://localhost:8080/",
          "height": 0
        },
        "id": "HaDNLGh0ORar",
        "outputId": "dfdb58fa-e1f9-47b8-d2f2-773e5cec54a3"
      },
      "outputs": [
        {
          "output_type": "stream",
          "name": "stdout",
          "text": [
            "Accuracy of the network on the 10000 test images: 99.00%\n",
            "Accuracy of the network on the 10000 test images: 99.00%\n",
            "Accuracy of the network on the 10000 test images: 99.00%\n",
            "Accuracy of the network on the 10000 test images: 99.25%\n",
            "Accuracy of the network on the 10000 test images: 99.40%\n",
            "Accuracy of the network on the 10000 test images: 99.50%\n",
            "Accuracy of the network on the 10000 test images: 99.57%\n",
            "Accuracy of the network on the 10000 test images: 99.50%\n",
            "Accuracy of the network on the 10000 test images: 99.44%\n",
            "Accuracy of the network on the 10000 test images: 99.50%\n",
            "Accuracy of the network on the 10000 test images: 99.55%\n",
            "Accuracy of the network on the 10000 test images: 99.50%\n",
            "Accuracy of the network on the 10000 test images: 99.54%\n",
            "Accuracy of the network on the 10000 test images: 99.50%\n",
            "Accuracy of the network on the 10000 test images: 99.40%\n",
            "Accuracy of the network on the 10000 test images: 99.44%\n",
            "Accuracy of the network on the 10000 test images: 99.35%\n",
            "Accuracy of the network on the 10000 test images: 99.33%\n",
            "Accuracy of the network on the 10000 test images: 99.26%\n",
            "Accuracy of the network on the 10000 test images: 99.30%\n",
            "Accuracy of the network on the 10000 test images: 99.29%\n",
            "Accuracy of the network on the 10000 test images: 99.32%\n",
            "Accuracy of the network on the 10000 test images: 99.26%\n",
            "Accuracy of the network on the 10000 test images: 99.25%\n",
            "Accuracy of the network on the 10000 test images: 99.28%\n",
            "Accuracy of the network on the 10000 test images: 99.27%\n",
            "Accuracy of the network on the 10000 test images: 99.26%\n",
            "Accuracy of the network on the 10000 test images: 99.25%\n",
            "Accuracy of the network on the 10000 test images: 99.24%\n",
            "Accuracy of the network on the 10000 test images: 99.23%\n",
            "Accuracy of the network on the 10000 test images: 99.26%\n",
            "Accuracy of the network on the 10000 test images: 99.28%\n",
            "Accuracy of the network on the 10000 test images: 99.30%\n",
            "Accuracy of the network on the 10000 test images: 99.21%\n",
            "Accuracy of the network on the 10000 test images: 99.20%\n",
            "Accuracy of the network on the 10000 test images: 99.22%\n",
            "Accuracy of the network on the 10000 test images: 99.24%\n",
            "Accuracy of the network on the 10000 test images: 99.24%\n",
            "Accuracy of the network on the 10000 test images: 99.18%\n",
            "Accuracy of the network on the 10000 test images: 99.12%\n",
            "Accuracy of the network on the 10000 test images: 99.12%\n",
            "Accuracy of the network on the 10000 test images: 99.12%\n",
            "Accuracy of the network on the 10000 test images: 99.14%\n",
            "Accuracy of the network on the 10000 test images: 99.14%\n",
            "Accuracy of the network on the 10000 test images: 99.13%\n",
            "Accuracy of the network on the 10000 test images: 99.15%\n",
            "Accuracy of the network on the 10000 test images: 99.13%\n",
            "Accuracy of the network on the 10000 test images: 99.12%\n",
            "Accuracy of the network on the 10000 test images: 99.12%\n",
            "Accuracy of the network on the 10000 test images: 99.12%\n",
            "Accuracy of the network on the 10000 test images: 99.12%\n",
            "Accuracy of the network on the 10000 test images: 99.10%\n",
            "Accuracy of the network on the 10000 test images: 99.09%\n",
            "Accuracy of the network on the 10000 test images: 99.07%\n",
            "Accuracy of the network on the 10000 test images: 99.09%\n",
            "Accuracy of the network on the 10000 test images: 99.11%\n",
            "Accuracy of the network on the 10000 test images: 99.11%\n",
            "Accuracy of the network on the 10000 test images: 99.09%\n",
            "Accuracy of the network on the 10000 test images: 99.10%\n",
            "Accuracy of the network on the 10000 test images: 99.10%\n",
            "Accuracy of the network on the 10000 test images: 99.11%\n",
            "Accuracy of the network on the 10000 test images: 99.13%\n",
            "Accuracy of the network on the 10000 test images: 99.13%\n",
            "Accuracy of the network on the 10000 test images: 99.11%\n",
            "Accuracy of the network on the 10000 test images: 99.12%\n",
            "Accuracy of the network on the 10000 test images: 99.12%\n",
            "Accuracy of the network on the 10000 test images: 99.12%\n",
            "Accuracy of the network on the 10000 test images: 99.12%\n",
            "Accuracy of the network on the 10000 test images: 99.13%\n",
            "Accuracy of the network on the 10000 test images: 99.14%\n",
            "Accuracy of the network on the 10000 test images: 99.15%\n",
            "Accuracy of the network on the 10000 test images: 99.15%\n",
            "Accuracy of the network on the 10000 test images: 99.15%\n",
            "Accuracy of the network on the 10000 test images: 99.15%\n",
            "Accuracy of the network on the 10000 test images: 99.15%\n",
            "Accuracy of the network on the 10000 test images: 99.13%\n",
            "Accuracy of the network on the 10000 test images: 99.13%\n",
            "Accuracy of the network on the 10000 test images: 99.10%\n",
            "Accuracy of the network on the 10000 test images: 99.10%\n",
            "Accuracy of the network on the 10000 test images: 99.09%\n",
            "Accuracy of the network on the 10000 test images: 99.10%\n",
            "Accuracy of the network on the 10000 test images: 99.10%\n",
            "Accuracy of the network on the 10000 test images: 99.08%\n",
            "Accuracy of the network on the 10000 test images: 99.10%\n",
            "Accuracy of the network on the 10000 test images: 99.08%\n",
            "Accuracy of the network on the 10000 test images: 99.08%\n",
            "Accuracy of the network on the 10000 test images: 99.08%\n",
            "Accuracy of the network on the 10000 test images: 99.08%\n",
            "Accuracy of the network on the 10000 test images: 99.08%\n",
            "Accuracy of the network on the 10000 test images: 99.08%\n",
            "Accuracy of the network on the 10000 test images: 99.09%\n",
            "Accuracy of the network on the 10000 test images: 99.08%\n",
            "Accuracy of the network on the 10000 test images: 99.05%\n",
            "Accuracy of the network on the 10000 test images: 99.06%\n",
            "Accuracy of the network on the 10000 test images: 99.05%\n",
            "Accuracy of the network on the 10000 test images: 99.04%\n",
            "Accuracy of the network on the 10000 test images: 99.05%\n",
            "Accuracy of the network on the 10000 test images: 99.04%\n",
            "Accuracy of the network on the 10000 test images: 99.04%\n",
            "Accuracy of the network on the 10000 test images: 99.05%\n"
          ]
        }
      ],
      "source": [
        "correct=0\n",
        "total=0\n",
        "with torch.no_grad():\n",
        "  for data in test_loader:\n",
        "    images,labels=data\n",
        "    # outputs=model(images)   # cpu\n",
        "    images = images.to(device)  # cuda\n",
        "    labels = labels.to(device) # cuda\n",
        "    outputs=model(images)   # cuda\n",
        "    _,predicted=torch.max(outputs.data,1)\n",
        "    total+=labels.size(0)\n",
        "    correct+=(predicted==labels).sum().item()\n",
        "    print(f'Accuracy of the network on the 10000 test images: {100*correct/total :.2f}%')"
      ]
    },
    {
      "cell_type": "code",
      "execution_count": 10,
      "metadata": {
        "id": "V_CZu6TLOwIn"
      },
      "outputs": [],
      "source": [
        "transformer = transforms.Compose([\n",
        "    transforms.ToTensor(),\n",
        "    transforms.Resize((28, 28)),\n",
        "    transforms.Normalize((0.5,), (0.5,)),\n",
        "])\n",
        "# img=transformer(image)\n",
        "# img=img.unsqueeze(0)\n"
      ]
    },
    {
      "cell_type": "code",
      "execution_count": 14,
      "metadata": {
        "colab": {
          "base_uri": "https://localhost:8080/",
          "height": 74
        },
        "id": "Oxi_Ls_COl-n",
        "outputId": "140ca580-3448-499c-a302-120fa3d74898"
      },
      "outputs": [
        {
          "output_type": "display_data",
          "data": {
            "text/plain": [
              "<IPython.core.display.HTML object>"
            ],
            "text/html": [
              "\n",
              "     <input type=\"file\" id=\"files-643ee4a6-c443-404d-89c2-25471ad1b5dc\" name=\"files[]\" multiple disabled\n",
              "        style=\"border:none\" />\n",
              "     <output id=\"result-643ee4a6-c443-404d-89c2-25471ad1b5dc\">\n",
              "      Upload widget is only available when the cell has been executed in the\n",
              "      current browser session. Please rerun this cell to enable.\n",
              "      </output>\n",
              "      <script>// Copyright 2017 Google LLC\n",
              "//\n",
              "// Licensed under the Apache License, Version 2.0 (the \"License\");\n",
              "// you may not use this file except in compliance with the License.\n",
              "// You may obtain a copy of the License at\n",
              "//\n",
              "//      http://www.apache.org/licenses/LICENSE-2.0\n",
              "//\n",
              "// Unless required by applicable law or agreed to in writing, software\n",
              "// distributed under the License is distributed on an \"AS IS\" BASIS,\n",
              "// WITHOUT WARRANTIES OR CONDITIONS OF ANY KIND, either express or implied.\n",
              "// See the License for the specific language governing permissions and\n",
              "// limitations under the License.\n",
              "\n",
              "/**\n",
              " * @fileoverview Helpers for google.colab Python module.\n",
              " */\n",
              "(function(scope) {\n",
              "function span(text, styleAttributes = {}) {\n",
              "  const element = document.createElement('span');\n",
              "  element.textContent = text;\n",
              "  for (const key of Object.keys(styleAttributes)) {\n",
              "    element.style[key] = styleAttributes[key];\n",
              "  }\n",
              "  return element;\n",
              "}\n",
              "\n",
              "// Max number of bytes which will be uploaded at a time.\n",
              "const MAX_PAYLOAD_SIZE = 100 * 1024;\n",
              "\n",
              "function _uploadFiles(inputId, outputId) {\n",
              "  const steps = uploadFilesStep(inputId, outputId);\n",
              "  const outputElement = document.getElementById(outputId);\n",
              "  // Cache steps on the outputElement to make it available for the next call\n",
              "  // to uploadFilesContinue from Python.\n",
              "  outputElement.steps = steps;\n",
              "\n",
              "  return _uploadFilesContinue(outputId);\n",
              "}\n",
              "\n",
              "// This is roughly an async generator (not supported in the browser yet),\n",
              "// where there are multiple asynchronous steps and the Python side is going\n",
              "// to poll for completion of each step.\n",
              "// This uses a Promise to block the python side on completion of each step,\n",
              "// then passes the result of the previous step as the input to the next step.\n",
              "function _uploadFilesContinue(outputId) {\n",
              "  const outputElement = document.getElementById(outputId);\n",
              "  const steps = outputElement.steps;\n",
              "\n",
              "  const next = steps.next(outputElement.lastPromiseValue);\n",
              "  return Promise.resolve(next.value.promise).then((value) => {\n",
              "    // Cache the last promise value to make it available to the next\n",
              "    // step of the generator.\n",
              "    outputElement.lastPromiseValue = value;\n",
              "    return next.value.response;\n",
              "  });\n",
              "}\n",
              "\n",
              "/**\n",
              " * Generator function which is called between each async step of the upload\n",
              " * process.\n",
              " * @param {string} inputId Element ID of the input file picker element.\n",
              " * @param {string} outputId Element ID of the output display.\n",
              " * @return {!Iterable<!Object>} Iterable of next steps.\n",
              " */\n",
              "function* uploadFilesStep(inputId, outputId) {\n",
              "  const inputElement = document.getElementById(inputId);\n",
              "  inputElement.disabled = false;\n",
              "\n",
              "  const outputElement = document.getElementById(outputId);\n",
              "  outputElement.innerHTML = '';\n",
              "\n",
              "  const pickedPromise = new Promise((resolve) => {\n",
              "    inputElement.addEventListener('change', (e) => {\n",
              "      resolve(e.target.files);\n",
              "    });\n",
              "  });\n",
              "\n",
              "  const cancel = document.createElement('button');\n",
              "  inputElement.parentElement.appendChild(cancel);\n",
              "  cancel.textContent = 'Cancel upload';\n",
              "  const cancelPromise = new Promise((resolve) => {\n",
              "    cancel.onclick = () => {\n",
              "      resolve(null);\n",
              "    };\n",
              "  });\n",
              "\n",
              "  // Wait for the user to pick the files.\n",
              "  const files = yield {\n",
              "    promise: Promise.race([pickedPromise, cancelPromise]),\n",
              "    response: {\n",
              "      action: 'starting',\n",
              "    }\n",
              "  };\n",
              "\n",
              "  cancel.remove();\n",
              "\n",
              "  // Disable the input element since further picks are not allowed.\n",
              "  inputElement.disabled = true;\n",
              "\n",
              "  if (!files) {\n",
              "    return {\n",
              "      response: {\n",
              "        action: 'complete',\n",
              "      }\n",
              "    };\n",
              "  }\n",
              "\n",
              "  for (const file of files) {\n",
              "    const li = document.createElement('li');\n",
              "    li.append(span(file.name, {fontWeight: 'bold'}));\n",
              "    li.append(span(\n",
              "        `(${file.type || 'n/a'}) - ${file.size} bytes, ` +\n",
              "        `last modified: ${\n",
              "            file.lastModifiedDate ? file.lastModifiedDate.toLocaleDateString() :\n",
              "                                    'n/a'} - `));\n",
              "    const percent = span('0% done');\n",
              "    li.appendChild(percent);\n",
              "\n",
              "    outputElement.appendChild(li);\n",
              "\n",
              "    const fileDataPromise = new Promise((resolve) => {\n",
              "      const reader = new FileReader();\n",
              "      reader.onload = (e) => {\n",
              "        resolve(e.target.result);\n",
              "      };\n",
              "      reader.readAsArrayBuffer(file);\n",
              "    });\n",
              "    // Wait for the data to be ready.\n",
              "    let fileData = yield {\n",
              "      promise: fileDataPromise,\n",
              "      response: {\n",
              "        action: 'continue',\n",
              "      }\n",
              "    };\n",
              "\n",
              "    // Use a chunked sending to avoid message size limits. See b/62115660.\n",
              "    let position = 0;\n",
              "    do {\n",
              "      const length = Math.min(fileData.byteLength - position, MAX_PAYLOAD_SIZE);\n",
              "      const chunk = new Uint8Array(fileData, position, length);\n",
              "      position += length;\n",
              "\n",
              "      const base64 = btoa(String.fromCharCode.apply(null, chunk));\n",
              "      yield {\n",
              "        response: {\n",
              "          action: 'append',\n",
              "          file: file.name,\n",
              "          data: base64,\n",
              "        },\n",
              "      };\n",
              "\n",
              "      let percentDone = fileData.byteLength === 0 ?\n",
              "          100 :\n",
              "          Math.round((position / fileData.byteLength) * 100);\n",
              "      percent.textContent = `${percentDone}% done`;\n",
              "\n",
              "    } while (position < fileData.byteLength);\n",
              "  }\n",
              "\n",
              "  // All done.\n",
              "  yield {\n",
              "    response: {\n",
              "      action: 'complete',\n",
              "    }\n",
              "  };\n",
              "}\n",
              "\n",
              "scope.google = scope.google || {};\n",
              "scope.google.colab = scope.google.colab || {};\n",
              "scope.google.colab._files = {\n",
              "  _uploadFiles,\n",
              "  _uploadFilesContinue,\n",
              "};\n",
              "})(self);\n",
              "</script> "
            ]
          },
          "metadata": {}
        },
        {
          "output_type": "stream",
          "name": "stdout",
          "text": [
            "Saving img196.png to img196.png\n"
          ]
        }
      ],
      "source": [
        "from google.colab import files\n",
        "uploaded = files.upload()\n",
        "# transformer(uploaded)"
      ]
    },
    {
      "cell_type": "code",
      "source": [
        "img=Image.open('img196.png').convert('L')\n",
        "# img.resize((28,28))"
      ],
      "metadata": {
        "id": "hwFgvBMVZHFP"
      },
      "execution_count": 15,
      "outputs": []
    },
    {
      "cell_type": "code",
      "execution_count": 16,
      "metadata": {
        "colab": {
          "base_uri": "https://localhost:8080/",
          "height": 1358
        },
        "id": "Lq4NJUWROwx3",
        "outputId": "42f7eb95-c06f-4699-ffc4-13d12b29066c"
      },
      "outputs": [
        {
          "output_type": "display_data",
          "data": {
            "text/plain": [
              "<Figure size 640x480 with 1 Axes>"
            ],
            "image/png": "[encoded data removed]"
          },
          "metadata": {}
        },
        {
          "output_type": "stream",
          "name": "stdout",
          "text": [
            "Prediction for part 1 of image img196.png: 1\n",
            "The three-digit number in image img196.png is: 1\n"
          ]
        },
        {
          "output_type": "display_data",
          "data": {
            "text/plain": [
              "<Figure size 640x480 with 1 Axes>"
            ],
            "image/png": "[encoded data removed]"
          },
          "metadata": {}
        },
        {
          "output_type": "stream",
          "name": "stdout",
          "text": [
            "Prediction for part 2 of image img196.png: 9\n",
            "The three-digit number in image img196.png is: 19\n"
          ]
        },
        {
          "output_type": "display_data",
          "data": {
            "text/plain": [
              "<Figure size 640x480 with 1 Axes>"
            ],
            "image/png": "[encoded data removed]"
          },
          "metadata": {}
        },
        {
          "output_type": "stream",
          "name": "stdout",
          "text": [
            "Prediction for part 3 of image img196.png: 6\n",
            "The three-digit number in image img196.png is: 196\n"
          ]
        }
      ],
      "source": [
        "model.eval()\n",
        "model.to(device)\n",
        "for j in uploaded.keys():\n",
        "    img = Image.open(j)\n",
        "    img = img.resize((28, 28))\n",
        "    width, height = img.size\n",
        "    part_width = width // 3\n",
        "    result = \"\"\n",
        "    for k in range(3):\n",
        "        left = k * part_width\n",
        "        right = (k + 1) * part_width\n",
        "        img_part = img.crop((left, 0, right,height)).convert('L')\n",
        "        for i in _:\n",
        "            img_part = img_part.convert('L')\n",
        "            img_tensor = transformer(img_part)\n",
        "            img_tensor = img_tensor.unsqueeze(0).to(device)\n",
        "\n",
        "            plt.imshow(img_part, cmap='gray')\n",
        "            plt.title(f'Cropped Part {k+1}')\n",
        "            plt.axis('off')\n",
        "            plt.show()\n",
        "\n",
        "            with torch.no_grad():\n",
        "                output = model(img_tensor)\n",
        "                _, predicted = torch.max(output.data, 1)\n",
        "\n",
        "            result += str(predicted.item())\n",
        "            print(f\"Prediction for part {k+1} of image {j}: {predicted.item()}\")\n",
        "\n",
        "        print(f\"The three-digit number in image {j} is:\", result)"
      ]
    }
  ],
  "metadata": {
    "colab": {
      "provenance": [],
      "gpuType": "T4"
    },
    "kernelspec": {
      "display_name": "Python 3",
      "name": "python3"
    },
    "language_info": {
      "name": "python"
    },
    "accelerator": "GPU"
  },
  "nbformat": 4,
  "nbformat_minor": 0
}